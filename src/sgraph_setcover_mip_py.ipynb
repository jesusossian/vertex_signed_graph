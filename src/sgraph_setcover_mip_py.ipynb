{
 "cells": [
  {
   "cell_type": "markdown",
   "metadata": {},
   "source": [
    "### Set cover problem"
   ]
  },
  {
   "cell_type": "markdown",
   "metadata": {},
   "source": [
    "Let $G = (V,E,s)$ be a signed graph and $k$ a positive scalar satisfying $k \\in \\{1, \\ldots, n\\}$.\n",
    "\n",
    "An edge $e \\in E$ is called negative if $s(e) = −1$ and positive if $s(e) = +1$. \n",
    "\n",
    "Let $E^{-}$ and $E^{+}$ denote, respectively, the sets of negative and positive edges in a signed graph. \n",
    "\n",
    "For a vertex set $S \\subseteq V$ , let $E[S] = \\{ (i,j) \\in E \\ | \\ i,j \\in S \\}$ denote the subset of edges induced by $S$.\n",
    "\n",
    "Let $S[i]$ the partition $i$ the $G$."
   ]
  },
  {
   "cell_type": "markdown",
   "metadata": {},
   "source": [
    "$\n",
    "\\lambda_{S} = \n",
    "\\begin{cases}\n",
    "1, & \\text{ if the set} S \\text{ is in the partition } i \\\\\n",
    "0, & \\text{ otherwise } \n",
    "\\end{cases} \n",
    "\\forall S \\in 2^{V(G)}\n",
    "$\n",
    "\n",
    "$\n",
    "y_{uv} = \n",
    "\\begin{cases}\n",
    "1, & \\text{ if the edge } uv \\text{ is removed } \\\\\n",
    "0, & \\text{ otherwise }. \n",
    "\\end{cases}\n",
    "\\forall uv \\in E(G)\n",
    "$"
   ]
  },
  {
   "cell_type": "markdown",
   "metadata": {},
   "source": [
    "$$\n",
    "\\begin{align}\n",
    "\\min \\quad & \\sum\\limits_{uv \\in E(G)} y_{uv} & \\\\\n",
    "st \\quad & \\sum_{S \\in \\mathcal{S}} \\lambda_{S} = k \\\\\n",
    "&\\sum_{S \\in \\mathcal{S}(v)} \\lambda_{S} \\geq 1 \\quad \\forall v \\in V(G) \\\\\n",
    "& \\lambda_{s} \\leq y_{uv} \\quad \\forall uv \\in E^{-}(G); \\forall s \\in \\mathcal{S}(\\{v,u\\}) \\\\\n",
    "& \\lambda_{S_1} + \\lambda_{S_1} \\leq 1 + y_{uv} \\quad \\forall uv \\in E^{+}(G), \\forall S_1 \\in \\mathcal{S}(v), \\forall S_2 \\in \\mathcal{S}(u) \\\\\n",
    "& \\lambda_{S} \\in \\{0,1\\} \\quad \\forall S \\in \\mathcal{S} \\\\\n",
    "& y_{uv} \\in \\{0,1\\} \\quad \\forall uv \\in E(G)\n",
    "\\end{align}\n",
    "$$"
   ]
  },
  {
   "cell_type": "code",
   "execution_count": 40,
   "metadata": {},
   "outputs": [],
   "source": [
    "import pandas as pd\n",
    "import numpy as np\n",
    "import networkx as nx\n",
    "import matplotlib.pyplot as plt\n",
    "import gurobipy as gp\n",
    "import itertools\n",
    "from itertools import chain, combinations"
   ]
  },
  {
   "cell_type": "code",
   "execution_count": 41,
   "metadata": {},
   "outputs": [],
   "source": [
    "def graph_ex():\n",
    "    G = nx.Graph()\n",
    "    #G.add_nodes_from([1,2,3,4,5,6])\n",
    "    edges = [(1,2,+1), (1,4,-1), (2,3,-1), (2,4,-1), (2,5,-1), (2,6,+1), (3,5,+1), (3,6,-1), (4,5,+1), (5,6,-1)]\n",
    "    G.add_weighted_edges_from(edges)\n",
    "\n",
    "    return G"
   ]
  },
  {
   "cell_type": "code",
   "execution_count": 42,
   "metadata": {},
   "outputs": [],
   "source": [
    "def graph_ex1():\n",
    "    G = nx.Graph()\n",
    "    #G.add_nodes_from([1,2,3,4,5,6])\n",
    "    edges = [(1,2,+1), (1,4,-1), (2,3,-1), (2,4,-1)]\n",
    "    G.add_weighted_edges_from(edges)\n",
    "\n",
    "    return G"
   ]
  },
  {
   "cell_type": "code",
   "execution_count": 82,
   "metadata": {},
   "outputs": [],
   "source": [
    "def plot_graph_ex(G):\n",
    "    plt.figure(figsize=(12, 8))\n",
    "    #nx.draw_planar(G, with_labels = \"True\")\n",
    "    pos = {1:(0,0), 2:(2,0), 3:(4,0), 4:(0,-1), 5:(2,-1), 6:(4,-1)}\n",
    "    nx.draw(G, pos, with_labels=\"True\")\n",
    "    edge_labels = nx.get_edge_attributes(G, \"weight\")\n",
    "    nx.draw_networkx_edge_labels(G, pos, edge_labels)\n",
    "    plt.show()"
   ]
  },
  {
   "cell_type": "code",
   "execution_count": 83,
   "metadata": {},
   "outputs": [],
   "source": [
    "def comb(nodes):\n",
    "\n",
    "    lcomb = sum([list(map(list, combinations(nodes, i))) for i in range(len(nodes) + 1)], [])\n",
    "    #lcomb.remove([])\n",
    "\n",
    "    return lcomb"
   ]
  },
  {
   "cell_type": "code",
   "execution_count": 84,
   "metadata": {},
   "outputs": [],
   "source": [
    "def set_S(lcomb):\n",
    "    S = dict()\n",
    "    for key, value in enumerate(lcomb):\n",
    "        S[key] = value\n",
    "\n",
    "    return S"
   ]
  },
  {
   "cell_type": "code",
   "execution_count": 85,
   "metadata": {},
   "outputs": [],
   "source": [
    "def set_Sv(G,S):\n",
    "\n",
    "    Sv = dict()\n",
    "    for v in G.nodes:\n",
    "        keys = [key for key, value in S.items() if v in value]\n",
    "        Sv[v] = keys\n",
    "\n",
    "    return Sv"
   ]
  },
  {
   "cell_type": "code",
   "execution_count": 86,
   "metadata": {},
   "outputs": [],
   "source": [
    "def set_Suv(G,S):\n",
    "    Suv = dict()\n",
    "    for e in G.edges:\n",
    "        keys = [key for key, value in S.items() if (e[0] in value and e[1] in value)]\n",
    "        Suv[e] = keys\n",
    "\n",
    "    return Suv"
   ]
  },
  {
   "cell_type": "code",
   "execution_count": 87,
   "metadata": {},
   "outputs": [],
   "source": [
    "def edgesEN(G):\n",
    "    EP = [(u, v) for (u, v, d) in G.edges(data=True) if d[\"weight\"] > 0]\n",
    "    EN = [(u, v) for (u, v, d) in G.edges(data=True) if d[\"weight\"] < 0]\n",
    "\n",
    "    return EP, EN"
   ]
  },
  {
   "cell_type": "code",
   "execution_count": 88,
   "metadata": {},
   "outputs": [],
   "source": [
    "def read_instance(instance):\n",
    "    with open(instance, 'r') as file: \n",
    "        lines = file.readlines()\n",
    "\n",
    "    lines = [a.strip() for a in lines]\n",
    "\n",
    "    values = lines[0].split()\n",
    "    n, m = int(values[0]), int(values[1])\n",
    "\n",
    "    #print(\"n =\", n)\n",
    "    #print(\"m =\", m)\n",
    "\n",
    "    G = nx.Graph()\n",
    "\n",
    "    for k in range(n):\n",
    "        G.add_node(k)\n",
    "\n",
    "    for e in range(1,m+1):\n",
    "        values = lines[e].split()\n",
    "        i, j, val = int(values[0]), int(values[1]), int(values[2])\n",
    "        G.add_edge(i, j, weight=val)\n",
    "\n",
    "    return G\n"
   ]
  },
  {
   "cell_type": "code",
   "execution_count": 89,
   "metadata": {},
   "outputs": [],
   "source": [
    "def plotGraph(G, pos):\n",
    "    plt.figure(figsize=(12, 8))\n",
    "    nx.draw_networkx(G,pos,with_labels=True)\n",
    "    labels = nx.get_edge_attributes(G,'weight')\n",
    "    nx.draw_networkx_edge_labels(G,pos,edge_labels=labels)\n",
    "\n",
    "    plt.show()"
   ]
  },
  {
   "cell_type": "code",
   "execution_count": 90,
   "metadata": {},
   "outputs": [],
   "source": [
    "def position(G):\n",
    "    #seed = 20532\n",
    "    pos = nx.spring_layout(G)\n",
    "    #pos=nx.random_layout(G)\n",
    "    #pos=nx.circular_layout(G)\n",
    "    #pos=nx.spectral_layout(G)\n",
    "    #pos=nx.spiral_layout(G)\n",
    "    #pos = nx.spring_layout(G, seed=seed)\n",
    "\n",
    "    return pos"
   ]
  },
  {
   "cell_type": "code",
   "execution_count": 91,
   "metadata": {},
   "outputs": [],
   "source": [
    "def setcover_mip(G, k, EP, EN, S, Sv, Suv):\n",
    "\n",
    "    nodes = G.nodes()\n",
    "    edges = G.edges()\n",
    "    \n",
    "    method = \"mip\"\n",
    "\n",
    "    #modelnx.draw_networkx_edge_labels(G,pos,edge_labels=labels)\n",
    "    model = gp.Model()\n",
    "\n",
    "    # silent/verbose mode\n",
    "    model.Params.OutputFlag = 0\n",
    "\n",
    "    # variables\n",
    "    if method == \"mip\":\n",
    "        y = model.addVars(edges,vtype=gp.GRB.BINARY, name=\"y\")\n",
    "        l = model.addVars(len(S),vtype=gp.GRB.BINARY, name=\"l\")\n",
    "\n",
    "    model.update()\n",
    "\n",
    "    #objective function\n",
    "    obj = 0\n",
    "    for e in edges:\n",
    "        obj += y[e]\n",
    "         \n",
    "    model.setObjective(obj, gp.GRB.MINIMIZE)\n",
    "\n",
    "    # constraints\n",
    "\n",
    "    lkey = [key for key, value in S.items()]\n",
    "    constr = 0\n",
    "    for s in lkey:\n",
    "        constr += l[s] \n",
    "    model.addConstr(constr <= k, \"constr9\")\n",
    "\n",
    "    for v in nodes:\n",
    "        constr = 0\n",
    "        for s in Sv[v]:\n",
    "            constr += l[s] \n",
    "        model.addConstr(constr >= 1.0, \"constr10\")\n",
    "\n",
    "    for e in EN:\n",
    "        for s in Suv[e]:\n",
    "            model.addConstr(l[s] <= y[e], \"constr11\")\n",
    "\n",
    "    for e in EP:\n",
    "        for s1 in Sv[e[0]]:\n",
    "            for s2 in Sv[e[1]]:\n",
    "                model.addConstr(l[s1] + l[s2] <= 1 + y[e], \"constr12\")\n",
    "\n",
    "    if method != \"mip\":\n",
    "        for v in model.getVars():\n",
    "            v.setAttr('vtype', 'C')\n",
    "\n",
    "    model.write(\"setcover_mip.lp\")\n",
    "    \n",
    "    model.optimize()\n",
    "         \n",
    "    tmp = 0\n",
    "    if model.status == gp.GRB.OPTIMAL:\n",
    "        tmp = 1\n",
    " \n",
    "    objval = model.objVal\n",
    "    runtime = model.Runtime\n",
    "    status = tmp\n",
    "    if method == \"mip\":\n",
    "        objbound = model.objBound\n",
    "        mipgap = model.MIPGap\n",
    "        nodecount = model.NodeCount\n",
    "\n",
    "    lval = {}\n",
    "    for v in lkey:\n",
    "        lval[v] = l[v].x\n",
    "\n",
    "    yval = {}\n",
    "    for e in edges:\n",
    "        yval[e] = y[e].x\n",
    "\n",
    "    El = []\n",
    "    for key, value in lval.items():\n",
    "        if value > 0.5:\n",
    "            El.append(key)\n",
    "\n",
    "    Ey = []\n",
    "    for key, value in yval.items():\n",
    "        if value > 0.5:\n",
    "            Ey.append(key)\n",
    "\n",
    "    model.dispose()\n",
    "\n",
    "    return objval, objbound, mipgap, nodecount, runtime, status, El, Ey"
   ]
  },
  {
   "cell_type": "code",
   "execution_count": 92,
   "metadata": {},
   "outputs": [],
   "source": [
    "#random_n20_k2_pos30_neg5_err5_1\n",
    "#random_n20_k2_pos30_neg5_err5_2\n",
    "#random_n20_k2_pos30_neg5_err5_3\n",
    "#random_n20_k2_pos30_neg5_err5_4\n",
    "#random_n20_k2_pos30_neg5_err5_5\n",
    "\n",
    "#random_n60_k2_pos30_neg5_err5_1\n",
    "#random_n60_k2_pos30_neg5_err5_2\n",
    "#random_n60_k2_pos30_neg5_err5_3\n",
    "#random_n60_k2_pos30_neg5_err5_4\n",
    "#random_n60_k2_pos30_neg5_err5_5\n",
    "\n",
    "# random_n60_k3_pos30_neg5_err5_1\n",
    "\n",
    "# random_n60_k4_pos30_neg5_err5_1\n",
    "\n",
    "# random_n60_k5_pos30_neg5_err5_1\n",
    "\n",
    "#instance = f\"../data/kmbs/instances/RANDOM/random_n60_k3_pos30_neg5_err5_1.g\"\n",
    "\n",
    "#G = read_instance(instance)\n",
    "\n",
    "G = graph_ex()\n"
   ]
  },
  {
   "cell_type": "code",
   "execution_count": 93,
   "metadata": {},
   "outputs": [
    {
     "data": {
      "image/png": "[encoded data removed]",
      "text/plain": [
       "<Figure size 864x576 with 1 Axes>"
      ]
     },
     "metadata": {},
     "output_type": "display_data"
    }
   ],
   "source": [
    "plot_graph_ex(G)"
   ]
  },
  {
   "cell_type": "code",
   "execution_count": 94,
   "metadata": {},
   "outputs": [],
   "source": [
    "n = G.number_of_nodes()\n",
    "m = G.number_of_edges()\n",
    "\n",
    "nodes = G.nodes()\n",
    "edges = G.edges()"
   ]
  },
  {
   "cell_type": "code",
   "execution_count": 95,
   "metadata": {},
   "outputs": [
    {
     "name": "stdout",
     "output_type": "stream",
     "text": [
      "n = 6\n",
      "m = 10\n",
      "[1, 2, 4, 3, 5, 6]\n",
      "[(1, 2), (1, 4), (2, 3), (2, 4), (2, 5), (2, 6), (4, 5), (3, 5), (3, 6), (5, 6)]\n"
     ]
    }
   ],
   "source": [
    "print(\"n =\", n)\n",
    "print(\"m =\", m)\n",
    "print(nodes)\n",
    "print(edges)"
   ]
  },
  {
   "cell_type": "code",
   "execution_count": 96,
   "metadata": {},
   "outputs": [],
   "source": [
    "EP, EN = edgesEN(G)\n",
    "lcomb = comb(nodes)\n",
    "S = set_S(lcomb)\n",
    "Sv = set_Sv(G,S)\n",
    "Suv = set_Suv(G,S)"
   ]
  },
  {
   "cell_type": "code",
   "execution_count": 97,
   "metadata": {},
   "outputs": [
    {
     "name": "stdout",
     "output_type": "stream",
     "text": [
      "0: []\n",
      "1: [1]\n",
      "2: [2]\n",
      "3: [4]\n",
      "4: [3]\n",
      "5: [5]\n",
      "6: [6]\n",
      "7: [1, 2]\n",
      "8: [1, 4]\n",
      "9: [1, 3]\n",
      "10: [1, 5]\n",
      "11: [1, 6]\n",
      "12: [2, 4]\n",
      "13: [2, 3]\n",
      "14: [2, 5]\n",
      "15: [2, 6]\n",
      "16: [4, 3]\n",
      "17: [4, 5]\n",
      "18: [4, 6]\n",
      "19: [3, 5]\n",
      "20: [3, 6]\n",
      "21: [5, 6]\n",
      "22: [1, 2, 4]\n",
      "23: [1, 2, 3]\n",
      "24: [1, 2, 5]\n",
      "25: [1, 2, 6]\n",
      "26: [1, 4, 3]\n",
      "27: [1, 4, 5]\n",
      "28: [1, 4, 6]\n",
      "29: [1, 3, 5]\n",
      "30: [1, 3, 6]\n",
      "31: [1, 5, 6]\n",
      "32: [2, 4, 3]\n",
      "33: [2, 4, 5]\n",
      "34: [2, 4, 6]\n",
      "35: [2, 3, 5]\n",
      "36: [2, 3, 6]\n",
      "37: [2, 5, 6]\n",
      "38: [4, 3, 5]\n",
      "39: [4, 3, 6]\n",
      "40: [4, 5, 6]\n",
      "41: [3, 5, 6]\n",
      "42: [1, 2, 4, 3]\n",
      "43: [1, 2, 4, 5]\n",
      "44: [1, 2, 4, 6]\n",
      "45: [1, 2, 3, 5]\n",
      "46: [1, 2, 3, 6]\n",
      "47: [1, 2, 5, 6]\n",
      "48: [1, 4, 3, 5]\n",
      "49: [1, 4, 3, 6]\n",
      "50: [1, 4, 5, 6]\n",
      "51: [1, 3, 5, 6]\n",
      "52: [2, 4, 3, 5]\n",
      "53: [2, 4, 3, 6]\n",
      "54: [2, 4, 5, 6]\n",
      "55: [2, 3, 5, 6]\n",
      "56: [4, 3, 5, 6]\n",
      "57: [1, 2, 4, 3, 5]\n",
      "58: [1, 2, 4, 3, 6]\n",
      "59: [1, 2, 4, 5, 6]\n",
      "60: [1, 2, 3, 5, 6]\n",
      "61: [1, 4, 3, 5, 6]\n",
      "62: [2, 4, 3, 5, 6]\n",
      "63: [1, 2, 4, 3, 5, 6]\n"
     ]
    }
   ],
   "source": [
    "for key, value in S.items():\n",
    "    print(f\"{key}: {value}\")"
   ]
  },
  {
   "cell_type": "code",
   "execution_count": 98,
   "metadata": {},
   "outputs": [
    {
     "data": {
      "image/png": "[encoded data removed]",
      "text/plain": [
       "<Figure size 864x576 with 1 Axes>"
      ]
     },
     "metadata": {},
     "output_type": "display_data"
    }
   ],
   "source": [
    "#pos = position(G)\n",
    "pos = {1:(0,0), 2:(2,0), 3:(4,0), 4:(0,-1), 5:(2,-1), 6:(4,-1)}\n",
    "plotGraph(G,pos)"
   ]
  },
  {
   "cell_type": "code",
   "execution_count": 99,
   "metadata": {},
   "outputs": [
    {
     "name": "stdout",
     "output_type": "stream",
     "text": [
      "G : 6, 10\n",
      "HP : 6, 4\n",
      "HN : 6, 6\n"
     ]
    }
   ],
   "source": [
    "HP = nx.Graph()\n",
    "HN = nx.Graph()\n",
    "\n",
    "HP.add_nodes_from(G)\n",
    "HN.add_nodes_from(G)\n",
    "\n",
    "HP.add_edges_from(EP)\n",
    "HN.add_edges_from(EN)\n",
    "\n",
    "print(f\"G : {G.number_of_nodes()}, {G.number_of_edges()}\")\n",
    "print(f\"HP : {HP.number_of_nodes()}, {HP.number_of_edges()}\")\n",
    "print(f\"HN : {HN.number_of_nodes()}, {HN.number_of_edges()}\")"
   ]
  },
  {
   "cell_type": "code",
   "execution_count": 100,
   "metadata": {},
   "outputs": [
    {
     "data": {
      "image/png": "[encoded data removed]",
      "text/plain": [
       "<Figure size 864x576 with 1 Axes>"
      ]
     },
     "metadata": {},
     "output_type": "display_data"
    }
   ],
   "source": [
    "plotGraph(HP, pos)"
   ]
  },
  {
   "cell_type": "code",
   "execution_count": 101,
   "metadata": {},
   "outputs": [
    {
     "data": {
      "image/png": "[encoded data removed]",
      "text/plain": [
       "<Figure size 864x576 with 1 Axes>"
      ]
     },
     "metadata": {},
     "output_type": "display_data"
    }
   ],
   "source": [
    "plotGraph(HN,pos)"
   ]
  },
  {
   "cell_type": "code",
   "execution_count": 102,
   "metadata": {},
   "outputs": [
    {
     "name": "stdout",
     "output_type": "stream",
     "text": [
      "ub =  4.0\n",
      "time =  0.3061220645904541\n",
      "status =  1\n",
      "lb =  4.0\n",
      "gap =  0.0\n",
      "nodes =  170.0\n"
     ]
    }
   ],
   "source": [
    "k = 3\n",
    "\n",
    "objval, objbound, mipgap, nodecount, runtime, status, El, Ey = setcover_mip(G, k, EP, EN, S, Sv, Suv)\n",
    "    \n",
    "print(\"ub = \", objval)\n",
    "print(\"time = \", runtime)\n",
    "print(\"status = \", status)\n",
    "print(\"lb = \", objbound)\n",
    "print(\"gap = \", mipgap)\n",
    "print(\"nodes = \", nodecount)\n"
   ]
  },
  {
   "cell_type": "code",
   "execution_count": 103,
   "metadata": {},
   "outputs": [
    {
     "name": "stdout",
     "output_type": "stream",
     "text": [
      "[2, 18, 29]\n"
     ]
    }
   ],
   "source": [
    "print(El)"
   ]
  },
  {
   "cell_type": "code",
   "execution_count": 104,
   "metadata": {},
   "outputs": [
    {
     "data": {
      "text/plain": [
       "[{2}, {4, 6}, {1, 3, 5}]"
      ]
     },
     "execution_count": 104,
     "metadata": {},
     "output_type": "execute_result"
    }
   ],
   "source": [
    "partition = []\n",
    "for i in El:\n",
    "    partition.append(set(S[i]))\n",
    "    \n",
    "partition"
   ]
  },
  {
   "cell_type": "code",
   "execution_count": 105,
   "metadata": {},
   "outputs": [
    {
     "name": "stdout",
     "output_type": "stream",
     "text": [
      "[(1, 2), (2, 6), (4, 5), (3, 5)]\n"
     ]
    }
   ],
   "source": [
    "print(Ey)"
   ]
  },
  {
   "cell_type": "code",
   "execution_count": 106,
   "metadata": {},
   "outputs": [
    {
     "data": {
      "text/plain": [
       "True"
      ]
     },
     "execution_count": 106,
     "metadata": {},
     "output_type": "execute_result"
    }
   ],
   "source": [
    "nx.community.is_partition(G, partition)"
   ]
  },
  {
   "cell_type": "code",
   "execution_count": 107,
   "metadata": {},
   "outputs": [
    {
     "name": "stdout",
     "output_type": "stream",
     "text": [
      "2: 0\n",
      "4: 1\n",
      "6: 1\n",
      "1: 2\n",
      "3: 2\n",
      "5: 2\n"
     ]
    }
   ],
   "source": [
    "partition_map = {}\n",
    "for idx, cluster_nodes in enumerate(partition):\n",
    "    for node in cluster_nodes:\n",
    "        partition_map[node] = idx\n",
    "\n",
    "for key, value in partition_map.items():\n",
    "    print(f\"{key}: {value}\")"
   ]
  },
  {
   "cell_type": "code",
   "execution_count": 108,
   "metadata": {},
   "outputs": [],
   "source": [
    "color_map = []\n",
    "for node in G:\n",
    "    if partition_map[node] == 0:\n",
    "        color_map.append('gray')\n",
    "    elif partition_map[node] == 1:\n",
    "        color_map.append('green')\n",
    "    else:\n",
    "        color_map.append('yellow')\n",
    "\n",
    "#node_colors = [partition_map[n] for n in G.nodes]"
   ]
  },
  {
   "cell_type": "code",
   "execution_count": 109,
   "metadata": {},
   "outputs": [
    {
     "data": {
      "image/png": "[encoded data removed]",
      "text/plain": [
       "<Figure size 864x576 with 1 Axes>"
      ]
     },
     "metadata": {},
     "output_type": "display_data"
    }
   ],
   "source": [
    "HP.remove_edges_from(Ey)\n",
    "plt.figure(figsize=(12, 8))        \n",
    "nx.draw_networkx(HP, pos, node_size=300, node_color=color_map, with_labels=True)\n",
    "plt.show()"
   ]
  },
  {
   "cell_type": "code",
   "execution_count": 110,
   "metadata": {},
   "outputs": [
    {
     "data": {
      "image/png": "[encoded data removed]",
      "text/plain": [
       "<Figure size 864x576 with 1 Axes>"
      ]
     },
     "metadata": {},
     "output_type": "display_data"
    }
   ],
   "source": [
    "HN.remove_edges_from(Ey)\n",
    "plt.figure(figsize=(12, 8))        \n",
    "nx.draw_networkx(HN, pos, node_size=250, node_color=color_map, with_labels=True)\n",
    "plt.show()"
   ]
  },
  {
   "cell_type": "code",
   "execution_count": 111,
   "metadata": {},
   "outputs": [
    {
     "data": {
      "image/png": "[encoded data removed]",
      "text/plain": [
       "<Figure size 864x576 with 1 Axes>"
      ]
     },
     "metadata": {},
     "output_type": "display_data"
    }
   ],
   "source": [
    "plt.figure(figsize=(12, 8))        \n",
    "nx.draw_networkx(G, pos, node_size=300, node_color=color_map, with_labels=True)\n",
    "#labels = nx.get_edge_attributes(G,'weight')\n",
    "#nx.draw_networkx_edge_labels(G,pos,edge_labels=labels)\n",
    "plt.show()"
   ]
  },
  {
   "cell_type": "code",
   "execution_count": 112,
   "metadata": {},
   "outputs": [
    {
     "data": {
      "image/png": "[encoded data removed]",
      "text/plain": [
       "<Figure size 864x576 with 1 Axes>"
      ]
     },
     "metadata": {},
     "output_type": "display_data"
    }
   ],
   "source": [
    "seed = 20532\n",
    "plt.figure(figsize=(12, 8))        \n",
    "pos1 = nx.spring_layout(HP, seed=seed)\n",
    "nx.draw_networkx(HP, pos1, node_size=300, node_color=color_map, with_labels=True)\n",
    "plt.show()"
   ]
  },
  {
   "cell_type": "code",
   "execution_count": 113,
   "metadata": {},
   "outputs": [
    {
     "name": "stdout",
     "output_type": "stream",
     "text": [
      "[(1, 2), (2, 6), (4, 5), (3, 5)]\n"
     ]
    }
   ],
   "source": [
    "print(Ey)"
   ]
  },
  {
   "cell_type": "code",
   "execution_count": 114,
   "metadata": {},
   "outputs": [
    {
     "data": {
      "text/plain": [
       "[2, 18, 29]"
      ]
     },
     "execution_count": 114,
     "metadata": {},
     "output_type": "execute_result"
    }
   ],
   "source": [
    "El"
   ]
  },
  {
   "cell_type": "code",
   "execution_count": null,
   "metadata": {},
   "outputs": [],
   "source": []
  },
  {
   "cell_type": "code",
   "execution_count": null,
   "metadata": {},
   "outputs": [],
   "source": []
  }
 ],
 "metadata": {
  "kernelspec": {
   "display_name": "Python 3 (ipykernel)",
   "language": "python",
   "name": "python3"
  },
  "language_info": {
   "codemirror_mode": {
    "name": "ipython",
    "version": 3
   },
   "file_extension": ".py",
   "mimetype": "text/x-python",
   "name": "python",
   "nbconvert_exporter": "python",
   "pygments_lexer": "ipython3",
   "version": "3.10.12"
  }
 },
 "nbformat": 4,
 "nbformat_minor": 2
}
